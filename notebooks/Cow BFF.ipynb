{
 "cells": [
  {
   "cell_type": "code",
   "execution_count": 0,
   "metadata": {
    "application/vnd.databricks.v1+cell": {
     "cellMetadata": {},
     "inputWidgets": {},
     "nuid": "4bfe825a-ef66-455a-999c-1f0e613914e3",
     "showTitle": false,
     "title": ""
    }
   },
   "outputs": [],
   "source": [
    "%pip install -r ../requirements.txt"
   ]
  },
  {
   "cell_type": "markdown",
   "metadata": {
    "application/vnd.databricks.v1+cell": {
     "cellMetadata": {
      "byteLimit": 2048000,
      "rowLimit": 10000
     },
     "inputWidgets": {},
     "nuid": "1150ad03-d27d-41cd-9d3e-5d717b80a08e",
     "showTitle": false,
     "title": ""
    }
   },
   "source": [
    "## First we install Python packages and initialize our globals"
   ]
  },
  {
   "cell_type": "code",
   "execution_count": 0,
   "metadata": {
    "application/vnd.databricks.v1+cell": {
     "cellMetadata": {
      "byteLimit": 2048000,
      "rowLimit": 10000
     },
     "inputWidgets": {},
     "nuid": "db31f2e5-6f73-4b4a-9735-48e5fb1a4cea",
     "showTitle": false,
     "title": ""
    }
   },
   "outputs": [],
   "source": [
    "# load table into spark dataframe\n",
    "cows_bff = spark.read.table(\"db.cows_bff\")"
   ]
  },
  {
   "cell_type": "markdown",
   "metadata": {
    "application/vnd.databricks.v1+cell": {
     "cellMetadata": {
      "byteLimit": 2048000,
      "rowLimit": 10000
     },
     "inputWidgets": {},
     "nuid": "e077744e-aee4-462b-b53c-d34955da8e92",
     "showTitle": false,
     "title": ""
    }
   },
   "source": [
    "## Some graphs and charts"
   ]
  },
  {
   "cell_type": "code",
   "execution_count": 0,
   "metadata": {
    "application/vnd.databricks.v1+cell": {
     "cellMetadata": {
      "byteLimit": 2048000,
      "rowLimit": 10000
     },
     "inputWidgets": {},
     "nuid": "eafa5b74-fd93-418e-a855-c20aecd86ec0",
     "showTitle": false,
     "title": ""
    }
   },
   "outputs": [],
   "source": [
    "display(cows_bff.limit(10))"
   ]
  },
  {
   "cell_type": "markdown",
   "metadata": {
    "application/vnd.databricks.v1+cell": {
     "cellMetadata": {
      "byteLimit": 2048000,
      "rowLimit": 10000
     },
     "inputWidgets": {},
     "nuid": "a06f52cf-3601-4fa5-8041-bd1df249f2be",
     "showTitle": false,
     "title": ""
    }
   },
   "source": [
    "## Lets compute meal overlap"
   ]
  },
  {
   "cell_type": "code",
   "execution_count": 0,
   "metadata": {
    "application/vnd.databricks.v1+cell": {
     "cellMetadata": {
      "byteLimit": 2048000,
      "rowLimit": 10000
     },
     "inputWidgets": {},
     "nuid": "491d6585-53eb-43a7-a5c1-2484e2707615",
     "showTitle": false,
     "title": ""
    }
   },
   "outputs": [],
   "source": [
    "from pyspark.sql.functions import udf, countDistinct, sum, col\n",
    "from pyspark.sql.types import IntegerType\n",
    "\n",
    "calculate_time_overlap = lambda start_interval_1, end_interval_1, start_interval_2, end_interval_2: \\\n",
    "    0 if end_interval_1 <= start_interval_2 or end_interval_2 <= start_interval_1 else \\\n",
    "    max(end_interval_1, end_interval_2) - min(start_interval_1, start_interval_2) \n",
    "\n",
    "calculate_time_overlap_udf = udf(calculate_time_overlap, IntegerType())\n",
    "\n",
    "cow1 = cows_bff\\\n",
    "    .withColumnRenamed('cow_name','cow1')\\\n",
    "    .withColumnRenamed('meal_start','meal_start1')\\\n",
    "    .withColumnRenamed('meal_end','meal_end1')\\\n",
    "    .withColumnRenamed('date','date1')\\\n",
    "    .select('cow1','meal_start1','meal_end1','date1')\n",
    "\n",
    "\n",
    "cow2 = cows_bff\\\n",
    "    .withColumnRenamed('cow_name','cow2')\\\n",
    "    .withColumnRenamed('meal_start','meal_start2')\\\n",
    "    .withColumnRenamed('meal_end','meal_end2')\\\n",
    "    .withColumnRenamed('date','date2')\\\n",
    "    .select('cow2','meal_start2','meal_end2','date2')\n",
    "\n",
    "df = cow1.crossJoin(cow2)\\\n",
    "  .where((cow1.cow1 != cow2.cow2) & (cow1.date1 == cow2.date2))\n",
    "\n",
    "df = df\\\n",
    "  .withColumn('overlap', calculate_time_overlap_udf(\"meal_start1\", \"meal_end1\", \"meal_start2\", \"meal_end2\"))\\\n",
    "  .select('cow1','cow2','date1','overlap')\n",
    "\n",
    "df = df.groupBy('cow1', 'cow2').agg(sum('overlap').alias('total_overlap'), countDistinct('date1').alias('distinct_days'))\n",
    "df = df\\\n",
    "  .withColumn('avg_overlap', df.total_overlap / df.distinct_days)\\\n",
    "  .select('cow1','cow2','avg_overlap')\\\n",
    "  .withColumnRenamed('avg_overlap','closeness')\\\n",
    "  .sort(col('cow1').asc(), col('cow2').asc())\n"
   ]
  },
  {
   "cell_type": "markdown",
   "metadata": {
    "application/vnd.databricks.v1+cell": {
     "cellMetadata": {
      "byteLimit": 2048000,
      "rowLimit": 10000
     },
     "inputWidgets": {},
     "nuid": "528c3a06-31c6-4124-b702-8052b7e3a821",
     "showTitle": false,
     "title": ""
    }
   },
   "source": [
    "# Display Heatmap"
   ]
  },
  {
   "cell_type": "code",
   "execution_count": 0,
   "metadata": {
    "application/vnd.databricks.v1+cell": {
     "cellMetadata": {
      "byteLimit": 2048000,
      "rowLimit": 10000
     },
     "inputWidgets": {},
     "nuid": "5c9d103d-f376-47de-a7be-0aec3d98763b",
     "showTitle": false,
     "title": ""
    }
   },
   "outputs": [],
   "source": [
    "pdf = df.toPandas()\n",
    "pdf = pdf.pivot(index='cow1', columns='cow2', values='closeness').fillna(0)\n",
    "\n",
    "import plotly.express as px\n",
    "fig = px.imshow(pdf, x=pdf.columns, y=pdf.index, labels=dict(x=\"Cow 2\", y=\"Cow 1\", color=\"closeness\"), title=\"Cow BFFs\", color_continuous_scale='redor')\n",
    "px.imshow(pdf, x=pdf.columns, y=pdf.index, labels=dict(x=\"Cow 2\", y=\"Cow 1\", color=\"closeness\"),)\n",
    "\n",
    "fig.update_layout(width=800,height=500)\n",
    "fig.show()\n"
   ]
  },
  {
   "cell_type": "markdown",
   "metadata": {
    "application/vnd.databricks.v1+cell": {
     "cellMetadata": {
      "byteLimit": 2048000,
      "rowLimit": 10000
     },
     "inputWidgets": {},
     "nuid": "30f057f5-f08e-46df-86c1-4092c8eb43ad",
     "showTitle": false,
     "title": ""
    }
   },
   "source": [
    "\n",
    "We know that cows are selective in who they eat with, but the heatmap isn't showing that and look like just noise. What's going on with our cow BFF calculation? Let's find out."
   ]
  },
  {
   "cell_type": "code",
   "execution_count": 0,
   "metadata": {
    "application/vnd.databricks.v1+cell": {
     "cellMetadata": {
      "byteLimit": 2048000,
      "rowLimit": 10000
     },
     "inputWidgets": {},
     "nuid": "d4c8a0ed-eab5-402d-9684-52cb56f5f542",
     "showTitle": false,
     "title": ""
    }
   },
   "outputs": [],
   "source": []
  }
 ],
 "metadata": {
  "application/vnd.databricks.v1+notebook": {
   "dashboards": [],
   "environmentMetadata": null,
   "language": "python",
   "notebookMetadata": {
    "mostRecentlyExecutedCommandWithImplicitDF": {
     "commandId": 1024381266358228,
     "dataframes": [
      "_sqldf"
     ]
    },
    "pythonIndentUnit": 4
   },
   "notebookName": "Cow BFF",
   "widgets": {}
  },
  "kernelspec": {
   "display_name": ".venv",
   "language": "python",
   "name": "python3"
  },
  "language_info": {
   "codemirror_mode": {
    "name": "ipython",
    "version": 3
   },
   "file_extension": ".py",
   "mimetype": "text/x-python",
   "name": "python",
   "nbconvert_exporter": "python",
   "pygments_lexer": "ipython3",
   "version": "3.10.11"
  }
 },
 "nbformat": 4,
 "nbformat_minor": 0
}
